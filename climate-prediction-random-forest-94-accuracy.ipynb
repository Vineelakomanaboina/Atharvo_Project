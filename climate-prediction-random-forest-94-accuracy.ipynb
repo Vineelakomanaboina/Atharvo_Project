{
 "cells": [
  {
   "cell_type": "markdown",
   "id": "passive-andrews",
   "metadata": {
    "papermill": {
     "duration": 0.021413,
     "end_time": "2021-09-12T07:48:50.531598",
     "exception": false,
     "start_time": "2021-09-12T07:48:50.510185",
     "status": "completed"
    },
    "tags": []
   },
   "source": [
    "## Importing Libraries"
   ]
  },
  {
   "cell_type": "code",
   "execution_count": 1,
   "id": "brazilian-blackberry",
   "metadata": {
    "execution": {
     "iopub.execute_input": "2021-09-12T07:48:50.578646Z",
     "iopub.status.busy": "2021-09-12T07:48:50.576870Z",
     "iopub.status.idle": "2021-09-12T07:48:51.726155Z",
     "shell.execute_reply": "2021-09-12T07:48:51.726753Z",
     "shell.execute_reply.started": "2021-09-12T07:42:09.977341Z"
    },
    "hideCode": false,
    "hidePrompt": false,
    "id": "d4a2uASN7jbm",
    "outputId": "a31fc9d2-6d41-4f32-f935-4de1392fb75d",
    "papermill": {
     "duration": 1.174941,
     "end_time": "2021-09-12T07:48:51.727066",
     "exception": false,
     "start_time": "2021-09-12T07:48:50.552125",
     "status": "completed"
    },
    "tags": []
   },
   "outputs": [],
   "source": [
    "# Pandas is used for data manipulation\n",
    "import pandas as pd\n",
    "\n",
    "# Use numpy to convert to arrays\n",
    "import numpy as np\n",
    "\n",
    "# Import tools needed for visualization\n",
    "from sklearn.tree import export_graphviz\n",
    "import pydot\n",
    "import matplotlib.pyplot as plt\n",
    "%matplotlib inline"
   ]
  },
  {
   "cell_type": "markdown",
   "id": "figured-purple",
   "metadata": {
    "execution": {
     "iopub.execute_input": "2021-06-05T03:15:54.659441Z",
     "iopub.status.busy": "2021-06-05T03:15:54.658886Z",
     "iopub.status.idle": "2021-06-05T03:15:54.679235Z",
     "shell.execute_reply": "2021-06-05T03:15:54.677744Z",
     "shell.execute_reply.started": "2021-06-05T03:15:54.659396Z"
    },
    "papermill": {
     "duration": 0.021477,
     "end_time": "2021-09-12T07:48:51.769325",
     "exception": false,
     "start_time": "2021-09-12T07:48:51.747848",
     "status": "completed"
    },
    "tags": []
   },
   "source": [
    "## Data Exploration"
   ]
  },
  {
   "cell_type": "code",
   "execution_count": 2,
   "id": "efficient-bones",
   "metadata": {
    "execution": {
     "iopub.execute_input": "2021-09-12T07:48:51.824950Z",
     "iopub.status.busy": "2021-09-12T07:48:51.823925Z",
     "iopub.status.idle": "2021-09-12T07:48:51.842794Z",
     "shell.execute_reply": "2021-09-12T07:48:51.843307Z",
     "shell.execute_reply.started": "2021-09-12T07:42:11.177971Z"
    },
    "papermill": {
     "duration": 0.048525,
     "end_time": "2021-09-12T07:48:51.843511",
     "exception": false,
     "start_time": "2021-09-12T07:48:51.794986",
     "status": "completed"
    },
    "tags": []
   },
   "outputs": [],
   "source": [
    "# Reading the data to a dataframe \n",
    "df = pd.read_csv('../input/tempscsv/temps.csv')"
   ]
  },
  {
   "cell_type": "code",
   "execution_count": 3,
   "id": "genuine-programmer",
   "metadata": {
    "execution": {
     "iopub.execute_input": "2021-09-12T07:48:51.893239Z",
     "iopub.status.busy": "2021-09-12T07:48:51.892601Z",
     "iopub.status.idle": "2021-09-12T07:48:51.920871Z",
     "shell.execute_reply": "2021-09-12T07:48:51.921383Z",
     "shell.execute_reply.started": "2021-09-12T07:42:11.200999Z"
    },
    "papermill": {
     "duration": 0.054899,
     "end_time": "2021-09-12T07:48:51.921566",
     "exception": false,
     "start_time": "2021-09-12T07:48:51.866667",
     "status": "completed"
    },
    "tags": []
   },
   "outputs": [
    {
     "data": {
      "text/html": [
       "<div>\n",
       "<style scoped>\n",
       "    .dataframe tbody tr th:only-of-type {\n",
       "        vertical-align: middle;\n",
       "    }\n",
       "\n",
       "    .dataframe tbody tr th {\n",
       "        vertical-align: top;\n",
       "    }\n",
       "\n",
       "    .dataframe thead th {\n",
       "        text-align: right;\n",
       "    }\n",
       "</style>\n",
       "<table border=\"1\" class=\"dataframe\">\n",
       "  <thead>\n",
       "    <tr style=\"text-align: right;\">\n",
       "      <th></th>\n",
       "      <th>year</th>\n",
       "      <th>month</th>\n",
       "      <th>day</th>\n",
       "      <th>week</th>\n",
       "      <th>temp_2</th>\n",
       "      <th>temp_1</th>\n",
       "      <th>average</th>\n",
       "      <th>actual</th>\n",
       "      <th>friend</th>\n",
       "    </tr>\n",
       "  </thead>\n",
       "  <tbody>\n",
       "    <tr>\n",
       "      <th>0</th>\n",
       "      <td>2019</td>\n",
       "      <td>1</td>\n",
       "      <td>1</td>\n",
       "      <td>Fri</td>\n",
       "      <td>45</td>\n",
       "      <td>45</td>\n",
       "      <td>45.6</td>\n",
       "      <td>45</td>\n",
       "      <td>29</td>\n",
       "    </tr>\n",
       "    <tr>\n",
       "      <th>1</th>\n",
       "      <td>2019</td>\n",
       "      <td>1</td>\n",
       "      <td>2</td>\n",
       "      <td>Sat</td>\n",
       "      <td>44</td>\n",
       "      <td>45</td>\n",
       "      <td>45.7</td>\n",
       "      <td>44</td>\n",
       "      <td>61</td>\n",
       "    </tr>\n",
       "    <tr>\n",
       "      <th>2</th>\n",
       "      <td>2019</td>\n",
       "      <td>1</td>\n",
       "      <td>3</td>\n",
       "      <td>Sun</td>\n",
       "      <td>45</td>\n",
       "      <td>44</td>\n",
       "      <td>45.8</td>\n",
       "      <td>41</td>\n",
       "      <td>56</td>\n",
       "    </tr>\n",
       "    <tr>\n",
       "      <th>3</th>\n",
       "      <td>2019</td>\n",
       "      <td>1</td>\n",
       "      <td>4</td>\n",
       "      <td>Mon</td>\n",
       "      <td>44</td>\n",
       "      <td>41</td>\n",
       "      <td>45.9</td>\n",
       "      <td>40</td>\n",
       "      <td>53</td>\n",
       "    </tr>\n",
       "    <tr>\n",
       "      <th>4</th>\n",
       "      <td>2019</td>\n",
       "      <td>1</td>\n",
       "      <td>5</td>\n",
       "      <td>Tues</td>\n",
       "      <td>41</td>\n",
       "      <td>40</td>\n",
       "      <td>46.0</td>\n",
       "      <td>44</td>\n",
       "      <td>41</td>\n",
       "    </tr>\n",
       "  </tbody>\n",
       "</table>\n",
       "</div>"
      ],
      "text/plain": [
       "   year  month  day  week  temp_2  temp_1  average  actual  friend\n",
       "0  2019      1    1   Fri      45      45     45.6      45      29\n",
       "1  2019      1    2   Sat      44      45     45.7      44      61\n",
       "2  2019      1    3   Sun      45      44     45.8      41      56\n",
       "3  2019      1    4   Mon      44      41     45.9      40      53\n",
       "4  2019      1    5  Tues      41      40     46.0      44      41"
      ]
     },
     "execution_count": 3,
     "metadata": {},
     "output_type": "execute_result"
    }
   ],
   "source": [
    "# displaying first 5 rows\n",
    "df.head(5)"
   ]
  },
  {
   "cell_type": "code",
   "execution_count": 4,
   "id": "destroyed-technique",
   "metadata": {
    "execution": {
     "iopub.execute_input": "2021-09-12T07:48:51.968960Z",
     "iopub.status.busy": "2021-09-12T07:48:51.968234Z",
     "iopub.status.idle": "2021-09-12T07:48:51.971341Z",
     "shell.execute_reply": "2021-09-12T07:48:51.971916Z",
     "shell.execute_reply.started": "2021-09-12T07:42:11.232503Z"
    },
    "hideCode": false,
    "hidePrompt": false,
    "id": "5aXM1w987jbq",
    "outputId": "c9eabdf4-30d9-4df4-b890-b28df3c5287b",
    "papermill": {
     "duration": 0.029152,
     "end_time": "2021-09-12T07:48:51.972087",
     "exception": false,
     "start_time": "2021-09-12T07:48:51.942935",
     "status": "completed"
    },
    "tags": []
   },
   "outputs": [
    {
     "data": {
      "text/plain": [
       "(348, 9)"
      ]
     },
     "execution_count": 4,
     "metadata": {},
     "output_type": "execute_result"
    }
   ],
   "source": [
    "# the shape of our features\n",
    "df.shape"
   ]
  },
  {
   "cell_type": "code",
   "execution_count": 5,
   "id": "critical-surgeon",
   "metadata": {
    "execution": {
     "iopub.execute_input": "2021-09-12T07:48:52.018099Z",
     "iopub.status.busy": "2021-09-12T07:48:52.017345Z",
     "iopub.status.idle": "2021-09-12T07:48:52.022248Z",
     "shell.execute_reply": "2021-09-12T07:48:52.022781Z",
     "shell.execute_reply.started": "2021-09-12T07:42:11.239913Z"
    },
    "papermill": {
     "duration": 0.029163,
     "end_time": "2021-09-12T07:48:52.022965",
     "exception": false,
     "start_time": "2021-09-12T07:48:51.993802",
     "status": "completed"
    },
    "tags": []
   },
   "outputs": [
    {
     "data": {
      "text/plain": [
       "Index(['year', 'month', 'day', 'week', 'temp_2', 'temp_1', 'average', 'actual',\n",
       "       'friend'],\n",
       "      dtype='object')"
      ]
     },
     "execution_count": 5,
     "metadata": {},
     "output_type": "execute_result"
    }
   ],
   "source": [
    "# column names\n",
    "df.columns"
   ]
  },
  {
   "cell_type": "code",
   "execution_count": 6,
   "id": "compressed-threat",
   "metadata": {
    "execution": {
     "iopub.execute_input": "2021-09-12T07:48:52.069856Z",
     "iopub.status.busy": "2021-09-12T07:48:52.069232Z",
     "iopub.status.idle": "2021-09-12T07:48:52.076669Z",
     "shell.execute_reply": "2021-09-12T07:48:52.077175Z",
     "shell.execute_reply.started": "2021-09-12T07:42:11.256038Z"
    },
    "papermill": {
     "duration": 0.032077,
     "end_time": "2021-09-12T07:48:52.077341",
     "exception": false,
     "start_time": "2021-09-12T07:48:52.045264",
     "status": "completed"
    },
    "tags": []
   },
   "outputs": [
    {
     "data": {
      "text/plain": [
       "year       0\n",
       "month      0\n",
       "day        0\n",
       "week       0\n",
       "temp_2     0\n",
       "temp_1     0\n",
       "average    0\n",
       "actual     0\n",
       "friend     0\n",
       "dtype: int64"
      ]
     },
     "execution_count": 6,
     "metadata": {},
     "output_type": "execute_result"
    }
   ],
   "source": [
    "# checking for null values\n",
    "df.isnull().sum()"
   ]
  },
  {
   "cell_type": "markdown",
   "id": "victorian-infrastructure",
   "metadata": {
    "papermill": {
     "duration": 0.02244,
     "end_time": "2021-09-12T07:48:52.121809",
     "exception": false,
     "start_time": "2021-09-12T07:48:52.099369",
     "status": "completed"
    },
    "tags": []
   },
   "source": [
    "There are no null values"
   ]
  },
  {
   "cell_type": "markdown",
   "id": "egyptian-ordinary",
   "metadata": {
    "id": "Nzu0v5mQ7jbs",
    "papermill": {
     "duration": 0.021446,
     "end_time": "2021-09-12T07:48:52.165221",
     "exception": false,
     "start_time": "2021-09-12T07:48:52.143775",
     "status": "completed"
    },
    "tags": []
   },
   "source": [
    "## One-Hot Encoding"
   ]
  },
  {
   "cell_type": "markdown",
   "id": "increased-memorabilia",
   "metadata": {
    "execution": {
     "iopub.execute_input": "2021-06-05T03:26:04.246284Z",
     "iopub.status.busy": "2021-06-05T03:26:04.245896Z",
     "iopub.status.idle": "2021-06-05T03:26:04.252279Z",
     "shell.execute_reply": "2021-06-05T03:26:04.250937Z",
     "shell.execute_reply.started": "2021-06-05T03:26:04.246247Z"
    },
    "papermill": {
     "duration": 0.021579,
     "end_time": "2021-09-12T07:48:52.208690",
     "exception": false,
     "start_time": "2021-09-12T07:48:52.187111",
     "status": "completed"
    },
    "tags": []
   },
   "source": [
    "A one hot encoding allows the representation of categorical data to be more expressive. "
   ]
  },
  {
   "cell_type": "code",
   "execution_count": 7,
   "id": "standing-milan",
   "metadata": {
    "execution": {
     "iopub.execute_input": "2021-09-12T07:48:52.255591Z",
     "iopub.status.busy": "2021-09-12T07:48:52.254860Z",
     "iopub.status.idle": "2021-09-12T07:48:52.282754Z",
     "shell.execute_reply": "2021-09-12T07:48:52.282121Z",
     "shell.execute_reply.started": "2021-09-12T07:42:11.273418Z"
    },
    "hideCode": false,
    "hidePrompt": false,
    "id": "VURjcTE27jbu",
    "outputId": "12cc15a3-072a-4e40-89c8-009ea27c2622",
    "papermill": {
     "duration": 0.052435,
     "end_time": "2021-09-12T07:48:52.282889",
     "exception": false,
     "start_time": "2021-09-12T07:48:52.230454",
     "status": "completed"
    },
    "tags": []
   },
   "outputs": [
    {
     "data": {
      "text/html": [
       "<div>\n",
       "<style scoped>\n",
       "    .dataframe tbody tr th:only-of-type {\n",
       "        vertical-align: middle;\n",
       "    }\n",
       "\n",
       "    .dataframe tbody tr th {\n",
       "        vertical-align: top;\n",
       "    }\n",
       "\n",
       "    .dataframe thead th {\n",
       "        text-align: right;\n",
       "    }\n",
       "</style>\n",
       "<table border=\"1\" class=\"dataframe\">\n",
       "  <thead>\n",
       "    <tr style=\"text-align: right;\">\n",
       "      <th></th>\n",
       "      <th>year</th>\n",
       "      <th>month</th>\n",
       "      <th>day</th>\n",
       "      <th>temp_2</th>\n",
       "      <th>temp_1</th>\n",
       "      <th>average</th>\n",
       "      <th>actual</th>\n",
       "      <th>friend</th>\n",
       "      <th>week_Fri</th>\n",
       "      <th>week_Mon</th>\n",
       "      <th>week_Sat</th>\n",
       "      <th>week_Sun</th>\n",
       "      <th>week_Thurs</th>\n",
       "      <th>week_Tues</th>\n",
       "      <th>week_Wed</th>\n",
       "    </tr>\n",
       "  </thead>\n",
       "  <tbody>\n",
       "    <tr>\n",
       "      <th>0</th>\n",
       "      <td>2019</td>\n",
       "      <td>1</td>\n",
       "      <td>1</td>\n",
       "      <td>45</td>\n",
       "      <td>45</td>\n",
       "      <td>45.6</td>\n",
       "      <td>45</td>\n",
       "      <td>29</td>\n",
       "      <td>1</td>\n",
       "      <td>0</td>\n",
       "      <td>0</td>\n",
       "      <td>0</td>\n",
       "      <td>0</td>\n",
       "      <td>0</td>\n",
       "      <td>0</td>\n",
       "    </tr>\n",
       "    <tr>\n",
       "      <th>1</th>\n",
       "      <td>2019</td>\n",
       "      <td>1</td>\n",
       "      <td>2</td>\n",
       "      <td>44</td>\n",
       "      <td>45</td>\n",
       "      <td>45.7</td>\n",
       "      <td>44</td>\n",
       "      <td>61</td>\n",
       "      <td>0</td>\n",
       "      <td>0</td>\n",
       "      <td>1</td>\n",
       "      <td>0</td>\n",
       "      <td>0</td>\n",
       "      <td>0</td>\n",
       "      <td>0</td>\n",
       "    </tr>\n",
       "    <tr>\n",
       "      <th>2</th>\n",
       "      <td>2019</td>\n",
       "      <td>1</td>\n",
       "      <td>3</td>\n",
       "      <td>45</td>\n",
       "      <td>44</td>\n",
       "      <td>45.8</td>\n",
       "      <td>41</td>\n",
       "      <td>56</td>\n",
       "      <td>0</td>\n",
       "      <td>0</td>\n",
       "      <td>0</td>\n",
       "      <td>1</td>\n",
       "      <td>0</td>\n",
       "      <td>0</td>\n",
       "      <td>0</td>\n",
       "    </tr>\n",
       "    <tr>\n",
       "      <th>3</th>\n",
       "      <td>2019</td>\n",
       "      <td>1</td>\n",
       "      <td>4</td>\n",
       "      <td>44</td>\n",
       "      <td>41</td>\n",
       "      <td>45.9</td>\n",
       "      <td>40</td>\n",
       "      <td>53</td>\n",
       "      <td>0</td>\n",
       "      <td>1</td>\n",
       "      <td>0</td>\n",
       "      <td>0</td>\n",
       "      <td>0</td>\n",
       "      <td>0</td>\n",
       "      <td>0</td>\n",
       "    </tr>\n",
       "    <tr>\n",
       "      <th>4</th>\n",
       "      <td>2019</td>\n",
       "      <td>1</td>\n",
       "      <td>5</td>\n",
       "      <td>41</td>\n",
       "      <td>40</td>\n",
       "      <td>46.0</td>\n",
       "      <td>44</td>\n",
       "      <td>41</td>\n",
       "      <td>0</td>\n",
       "      <td>0</td>\n",
       "      <td>0</td>\n",
       "      <td>0</td>\n",
       "      <td>0</td>\n",
       "      <td>1</td>\n",
       "      <td>0</td>\n",
       "    </tr>\n",
       "  </tbody>\n",
       "</table>\n",
       "</div>"
      ],
      "text/plain": [
       "   year  month  day  temp_2  temp_1  average  actual  friend  week_Fri  \\\n",
       "0  2019      1    1      45      45     45.6      45      29         1   \n",
       "1  2019      1    2      44      45     45.7      44      61         0   \n",
       "2  2019      1    3      45      44     45.8      41      56         0   \n",
       "3  2019      1    4      44      41     45.9      40      53         0   \n",
       "4  2019      1    5      41      40     46.0      44      41         0   \n",
       "\n",
       "   week_Mon  week_Sat  week_Sun  week_Thurs  week_Tues  week_Wed  \n",
       "0         0         0         0           0          0         0  \n",
       "1         0         1         0           0          0         0  \n",
       "2         0         0         1           0          0         0  \n",
       "3         1         0         0           0          0         0  \n",
       "4         0         0         0           0          1         0  "
      ]
     },
     "execution_count": 7,
     "metadata": {},
     "output_type": "execute_result"
    }
   ],
   "source": [
    "# One-hot encode categorical features\n",
    "df = pd.get_dummies(df)\n",
    "df.head(5)"
   ]
  },
  {
   "cell_type": "code",
   "execution_count": 8,
   "id": "fifty-parker",
   "metadata": {
    "execution": {
     "iopub.execute_input": "2021-09-12T07:48:52.333219Z",
     "iopub.status.busy": "2021-09-12T07:48:52.332504Z",
     "iopub.status.idle": "2021-09-12T07:48:52.336812Z",
     "shell.execute_reply": "2021-09-12T07:48:52.337311Z",
     "shell.execute_reply.started": "2021-09-12T07:42:11.312458Z"
    },
    "id": "zgYBtUrr7jbv",
    "outputId": "69df322f-2e24-4576-9fd2-d34773ac406c",
    "papermill": {
     "duration": 0.031884,
     "end_time": "2021-09-12T07:48:52.337471",
     "exception": false,
     "start_time": "2021-09-12T07:48:52.305587",
     "status": "completed"
    },
    "tags": []
   },
   "outputs": [
    {
     "name": "stdout",
     "output_type": "stream",
     "text": [
      "Shape of features after one-hot encoding: (348, 15)\n"
     ]
    }
   ],
   "source": [
    "print('Shape of features after one-hot encoding:', df.shape)"
   ]
  },
  {
   "cell_type": "markdown",
   "id": "white-verification",
   "metadata": {
    "id": "mtd7DqrQ7jbw",
    "papermill": {
     "duration": 0.022456,
     "end_time": "2021-09-12T07:48:52.383395",
     "exception": false,
     "start_time": "2021-09-12T07:48:52.360939",
     "status": "completed"
    },
    "tags": []
   },
   "source": [
    "## Features and Labels"
   ]
  },
  {
   "cell_type": "code",
   "execution_count": 9,
   "id": "hired-homework",
   "metadata": {
    "execution": {
     "iopub.execute_input": "2021-09-12T07:48:52.432970Z",
     "iopub.status.busy": "2021-09-12T07:48:52.432258Z",
     "iopub.status.idle": "2021-09-12T07:48:52.437823Z",
     "shell.execute_reply": "2021-09-12T07:48:52.438336Z",
     "shell.execute_reply.started": "2021-09-12T07:42:11.322261Z"
    },
    "id": "2rYCVrfV7jbx",
    "papermill": {
     "duration": 0.031895,
     "end_time": "2021-09-12T07:48:52.438501",
     "exception": false,
     "start_time": "2021-09-12T07:48:52.406606",
     "status": "completed"
    },
    "tags": []
   },
   "outputs": [],
   "source": [
    "# Labels are the values we want to predict\n",
    "labels = df['actual']\n",
    "\n",
    "# Remove the labels from the features\n",
    "df = df.drop('actual', axis = 1)\n",
    "\n",
    "# Saving feature names for later use\n",
    "feature_list = list(df.columns)"
   ]
  },
  {
   "cell_type": "markdown",
   "id": "temporal-infection",
   "metadata": {
    "id": "Q6SSjx5p7jb0",
    "papermill": {
     "duration": 0.022428,
     "end_time": "2021-09-12T07:48:52.483907",
     "exception": false,
     "start_time": "2021-09-12T07:48:52.461479",
     "status": "completed"
    },
    "tags": []
   },
   "source": [
    "## Train Test Split"
   ]
  },
  {
   "cell_type": "code",
   "execution_count": 10,
   "id": "balanced-upset",
   "metadata": {
    "execution": {
     "iopub.execute_input": "2021-09-12T07:48:52.532995Z",
     "iopub.status.busy": "2021-09-12T07:48:52.532352Z",
     "iopub.status.idle": "2021-09-12T07:48:52.538749Z",
     "shell.execute_reply": "2021-09-12T07:48:52.539290Z",
     "shell.execute_reply.started": "2021-09-12T07:42:11.336886Z"
    },
    "id": "11BJUq0s7jb0",
    "papermill": {
     "duration": 0.032336,
     "end_time": "2021-09-12T07:48:52.539466",
     "exception": false,
     "start_time": "2021-09-12T07:48:52.507130",
     "status": "completed"
    },
    "tags": []
   },
   "outputs": [],
   "source": [
    "# Using Skicit-learn to split data into training and testing sets\n",
    "from sklearn.model_selection import train_test_split\n",
    "\n",
    "# Split the data into training and testing sets\n",
    "train_features, test_features, train_labels, test_labels = train_test_split(df,\n",
    "                                                                            labels,\n",
    "                                                                            test_size = 0.20,\n",
    "                                                                            random_state = 42)"
   ]
  },
  {
   "cell_type": "code",
   "execution_count": 11,
   "id": "intelligent-smoke",
   "metadata": {
    "execution": {
     "iopub.execute_input": "2021-09-12T07:48:52.588115Z",
     "iopub.status.busy": "2021-09-12T07:48:52.587443Z",
     "iopub.status.idle": "2021-09-12T07:48:52.595593Z",
     "shell.execute_reply": "2021-09-12T07:48:52.596233Z",
     "shell.execute_reply.started": "2021-09-12T07:42:11.350426Z"
    },
    "id": "KkVnZf4H7jb2",
    "outputId": "3c0a9db7-0f71-44be-bd0a-946fddc7d048",
    "papermill": {
     "duration": 0.034276,
     "end_time": "2021-09-12T07:48:52.596463",
     "exception": false,
     "start_time": "2021-09-12T07:48:52.562187",
     "status": "completed"
    },
    "tags": []
   },
   "outputs": [
    {
     "name": "stdout",
     "output_type": "stream",
     "text": [
      "Training Features Shape: (278, 14)\n",
      "Training Labels Shape: (278,)\n",
      "Testing Features Shape: (70, 14)\n",
      "Testing Labels Shape: (70,)\n"
     ]
    }
   ],
   "source": [
    "print('Training Features Shape:', train_features.shape)\n",
    "print('Training Labels Shape:', train_labels.shape)\n",
    "print('Testing Features Shape:', test_features.shape)\n",
    "print('Testing Labels Shape:', test_labels.shape)"
   ]
  },
  {
   "cell_type": "markdown",
   "id": "changing-instrumentation",
   "metadata": {
    "id": "ny3qdq-i7jb4",
    "papermill": {
     "duration": 0.023067,
     "end_time": "2021-09-12T07:48:52.642869",
     "exception": false,
     "start_time": "2021-09-12T07:48:52.619802",
     "status": "completed"
    },
    "tags": []
   },
   "source": [
    "## Training the Forest"
   ]
  },
  {
   "cell_type": "code",
   "execution_count": 12,
   "id": "dated-embassy",
   "metadata": {
    "execution": {
     "iopub.execute_input": "2021-09-12T07:48:52.695065Z",
     "iopub.status.busy": "2021-09-12T07:48:52.694342Z",
     "iopub.status.idle": "2021-09-12T07:48:55.062661Z",
     "shell.execute_reply": "2021-09-12T07:48:55.062092Z",
     "shell.execute_reply.started": "2021-09-12T07:42:11.360229Z"
    },
    "hideCode": false,
    "hidePrompt": false,
    "id": "d_Vboxs77jb5",
    "papermill": {
     "duration": 2.396497,
     "end_time": "2021-09-12T07:48:55.062810",
     "exception": false,
     "start_time": "2021-09-12T07:48:52.666313",
     "status": "completed"
    },
    "tags": []
   },
   "outputs": [],
   "source": [
    "# Import the model we are using\n",
    "from sklearn.ensemble import RandomForestRegressor\n",
    "\n",
    "# Instantiate model \n",
    "rf = RandomForestRegressor(n_estimators= 1000, random_state=42)\n",
    "\n",
    "# Train the model on training data\n",
    "rf.fit(train_features, train_labels);"
   ]
  },
  {
   "cell_type": "markdown",
   "id": "friendly-genre",
   "metadata": {
    "id": "rJz8X7b77jb6",
    "papermill": {
     "duration": 0.022792,
     "end_time": "2021-09-12T07:48:55.108896",
     "exception": false,
     "start_time": "2021-09-12T07:48:55.086104",
     "status": "completed"
    },
    "tags": []
   },
   "source": [
    "## Make Predictions on Test Data"
   ]
  },
  {
   "cell_type": "code",
   "execution_count": 13,
   "id": "phantom-display",
   "metadata": {
    "execution": {
     "iopub.execute_input": "2021-09-12T07:48:55.164799Z",
     "iopub.status.busy": "2021-09-12T07:48:55.163136Z",
     "iopub.status.idle": "2021-09-12T07:48:55.268656Z",
     "shell.execute_reply": "2021-09-12T07:48:55.269144Z",
     "shell.execute_reply.started": "2021-09-12T07:42:13.844870Z"
    },
    "id": "pssgaBC67jb6",
    "outputId": "5a3a9029-c98b-4ac8-c081-2f7e17c3ca86",
    "papermill": {
     "duration": 0.13681,
     "end_time": "2021-09-12T07:48:55.269309",
     "exception": false,
     "start_time": "2021-09-12T07:48:55.132499",
     "status": "completed"
    },
    "tags": []
   },
   "outputs": [
    {
     "name": "stdout",
     "output_type": "stream",
     "text": [
      "Mean Absolute Error: 3.78 degrees.\n"
     ]
    }
   ],
   "source": [
    "# Use the forest's predict method on the test data\n",
    "predictions = rf.predict(test_features)\n",
    "\n",
    "# Calculate the absolute errors\n",
    "errors = abs(predictions - test_labels)\n",
    "\n",
    "# Print out the mean absolute error (mae)\n",
    "print('Mean Absolute Error:', round(np.mean(errors), 2), 'degrees.')\n"
   ]
  },
  {
   "cell_type": "code",
   "execution_count": 14,
   "id": "entitled-vault",
   "metadata": {
    "execution": {
     "iopub.execute_input": "2021-09-12T07:48:55.319663Z",
     "iopub.status.busy": "2021-09-12T07:48:55.318976Z",
     "iopub.status.idle": "2021-09-12T07:48:55.324749Z",
     "shell.execute_reply": "2021-09-12T07:48:55.325257Z",
     "shell.execute_reply.started": "2021-09-12T07:42:13.978549Z"
    },
    "id": "fDaM3Z677jb7",
    "outputId": "2307bab3-cb96-4a7a-f57d-3a9d80cec129",
    "papermill": {
     "duration": 0.03243,
     "end_time": "2021-09-12T07:48:55.325428",
     "exception": false,
     "start_time": "2021-09-12T07:48:55.292998",
     "status": "completed"
    },
    "tags": []
   },
   "outputs": [
    {
     "name": "stdout",
     "output_type": "stream",
     "text": [
      "Accuracy: 94.02 %.\n"
     ]
    }
   ],
   "source": [
    "# Calculate mean absolute percentage error (MAPE)\n",
    "mape = 100 * (errors / test_labels)\n",
    "\n",
    "# Calculate and display accuracy\n",
    "accuracy = 100 - np.mean(mape)\n",
    "print('Accuracy:', round(accuracy, 2), '%.')"
   ]
  },
  {
   "cell_type": "markdown",
   "id": "periodic-listening",
   "metadata": {
    "id": "9U2KQYmS7jb7",
    "papermill": {
     "duration": 0.023666,
     "end_time": "2021-09-12T07:48:55.373122",
     "exception": false,
     "start_time": "2021-09-12T07:48:55.349456",
     "status": "completed"
    },
    "tags": []
   },
   "source": [
    "## Visualizing a Single Decision Tree"
   ]
  },
  {
   "cell_type": "code",
   "execution_count": 15,
   "id": "verified-wales",
   "metadata": {
    "execution": {
     "iopub.execute_input": "2021-09-12T07:48:55.424898Z",
     "iopub.status.busy": "2021-09-12T07:48:55.424226Z",
     "iopub.status.idle": "2021-09-12T07:48:58.761366Z",
     "shell.execute_reply": "2021-09-12T07:48:58.760805Z",
     "shell.execute_reply.started": "2021-09-12T07:42:13.988748Z"
    },
    "id": "6F3GBZlc7jb8",
    "papermill": {
     "duration": 3.36453,
     "end_time": "2021-09-12T07:48:58.761521",
     "exception": false,
     "start_time": "2021-09-12T07:48:55.396991",
     "status": "completed"
    },
    "tags": []
   },
   "outputs": [],
   "source": [
    "# Pull out one tree from the forest\n",
    "tree = rf.estimators_[5]\n",
    "\n",
    "# Export the image to a dot file\n",
    "export_graphviz(tree, out_file = 'tree.dot', feature_names = feature_list, rounded = True, precision = 1)\n",
    "\n",
    "# Use dot file to create a graph\n",
    "(graph, ) = pydot.graph_from_dot_file('tree.dot')\n",
    "\n",
    "# Write graph to a png file\n",
    "graph.write_png('tree.png'); "
   ]
  },
  {
   "cell_type": "markdown",
   "id": "metallic-slovakia",
   "metadata": {
    "id": "Cnbb-pTt7jb9",
    "papermill": {
     "duration": 0.023528,
     "end_time": "2021-09-12T07:48:58.809005",
     "exception": false,
     "start_time": "2021-09-12T07:48:58.785477",
     "status": "completed"
    },
    "tags": []
   },
   "source": [
    "![Decision Tree](tree.png)"
   ]
  },
  {
   "cell_type": "code",
   "execution_count": 16,
   "id": "gentle-publicity",
   "metadata": {
    "execution": {
     "iopub.execute_input": "2021-09-12T07:48:58.861846Z",
     "iopub.status.busy": "2021-09-12T07:48:58.861224Z",
     "iopub.status.idle": "2021-09-12T07:48:58.864738Z",
     "shell.execute_reply": "2021-09-12T07:48:58.864131Z",
     "shell.execute_reply.started": "2021-09-12T07:42:17.372566Z"
    },
    "id": "Bg51DdPk7jb9",
    "outputId": "d633e5a4-35b3-434c-a2aa-d719710de636",
    "papermill": {
     "duration": 0.032275,
     "end_time": "2021-09-12T07:48:58.864869",
     "exception": false,
     "start_time": "2021-09-12T07:48:58.832594",
     "status": "completed"
    },
    "tags": []
   },
   "outputs": [
    {
     "name": "stdout",
     "output_type": "stream",
     "text": [
      "The depth of this tree is: 13\n"
     ]
    }
   ],
   "source": [
    "print('The depth of this tree is:', tree.tree_.max_depth)"
   ]
  },
  {
   "cell_type": "markdown",
   "id": "comprehensive-partition",
   "metadata": {
    "id": "bBwGCAgk7jb-",
    "papermill": {
     "duration": 0.023465,
     "end_time": "2021-09-12T07:48:58.912065",
     "exception": false,
     "start_time": "2021-09-12T07:48:58.888600",
     "status": "completed"
    },
    "tags": []
   },
   "source": [
    "Smaller tree for visualization."
   ]
  },
  {
   "cell_type": "markdown",
   "id": "municipal-guarantee",
   "metadata": {
    "id": "QDBqLS4D7jb_",
    "papermill": {
     "duration": 0.023503,
     "end_time": "2021-09-12T07:48:58.959578",
     "exception": false,
     "start_time": "2021-09-12T07:48:58.936075",
     "status": "completed"
    },
    "tags": []
   },
   "source": [
    "![Small Decision Tree](small_tree.PNG)"
   ]
  },
  {
   "cell_type": "markdown",
   "id": "capital-satellite",
   "metadata": {
    "papermill": {
     "duration": 0.023487,
     "end_time": "2021-09-12T07:48:59.006818",
     "exception": false,
     "start_time": "2021-09-12T07:48:58.983331",
     "status": "completed"
    },
    "tags": []
   },
   "source": [
    "If you find the notebook useful, please consider **upvoting**<p>\n",
    "**Thank you !**"
   ]
  }
 ],
 "metadata": {
  "kernelspec": {
   "display_name": "Python 3",
   "language": "python",
   "name": "python3"
  },
  "language_info": {
   "codemirror_mode": {
    "name": "ipython",
    "version": 3
   },
   "file_extension": ".py",
   "mimetype": "text/x-python",
   "name": "python",
   "nbconvert_exporter": "python",
   "pygments_lexer": "ipython3",
   "version": "3.7.10"
  },
  "papermill": {
   "default_parameters": {},
   "duration": 17.822697,
   "end_time": "2021-09-12T07:49:00.419368",
   "environment_variables": {},
   "exception": null,
   "input_path": "__notebook__.ipynb",
   "output_path": "__notebook__.ipynb",
   "parameters": {},
   "start_time": "2021-09-12T07:48:42.596671",
   "version": "2.3.3"
  }
 },
 "nbformat": 4,
 "nbformat_minor": 5
}
